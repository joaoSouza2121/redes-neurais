{
  "nbformat": 4,
  "nbformat_minor": 0,
  "metadata": {
    "kernelspec": {
      "display_name": "Python 3",
      "language": "python",
      "name": "python3"
    },
    "language_info": {
      "codemirror_mode": {
        "name": "ipython",
        "version": 3
      },
      "file_extension": ".py",
      "mimetype": "text/x-python",
      "name": "python",
      "nbconvert_exporter": "python",
      "pygments_lexer": "ipython3",
      "version": "3.7.6"
    },
    "colab": {
      "name": "DeepLearning2.ipynb",
      "provenance": [],
      "include_colab_link": true
    }
  },
  "cells": [
    {
      "cell_type": "markdown",
      "metadata": {
        "id": "view-in-github",
        "colab_type": "text"
      },
      "source": [
        "<a href=\"https://colab.research.google.com/github/joaoSouza2121/redes-neurais/blob/main/DeepLearning2.ipynb\" target=\"_parent\"><img src=\"https://colab.research.google.com/assets/colab-badge.svg\" alt=\"Open In Colab\"/></a>"
      ]
    },
    {
      "cell_type": "markdown",
      "metadata": {
        "id": "npvo5NqmV7qN"
      },
      "source": [
        "#<font color=\"blue\">Deep Learning</font>\n",
        "\n",
        "Prevendo se um determinado cliente é ou nao bom pagador de emprétismo"
      ]
    },
    {
      "cell_type": "code",
      "metadata": {
        "id": "B0qAWfxqRGvd"
      },
      "source": [
        "import pandas as pd\n",
        "from keras.models import Sequential\n",
        "from keras.layers import Dense\n",
        "from sklearn.model_selection import train_test_split\n",
        "from sklearn.metrics import confusion_matrix\n",
        "from sklearn.preprocessing import LabelEncoder, OneHotEncoder\n",
        "from sklearn.preprocessing import StandardScaler\n",
        "from sklearn.compose import make_column_transformer"
      ],
      "execution_count": 5,
      "outputs": []
    },
    {
      "cell_type": "markdown",
      "metadata": {
        "id": "-TLYhvQpWGRs"
      },
      "source": [
        "Carregando a base de dados"
      ]
    },
    {
      "cell_type": "code",
      "metadata": {
        "colab": {
          "base_uri": "https://localhost:8080/",
          "height": 470
        },
        "id": "a8MMynPiRGvg",
        "outputId": "a9d6c76d-8397-4c6e-c690-480fca4e99f0"
      },
      "source": [
        "dataset = pd.read_csv(\"Credit2.csv\", sep=\";\")\n",
        "dataset"
      ],
      "execution_count": 6,
      "outputs": [
        {
          "output_type": "execute_result",
          "data": {
            "text/html": [
              "<div>\n",
              "<style scoped>\n",
              "    .dataframe tbody tr th:only-of-type {\n",
              "        vertical-align: middle;\n",
              "    }\n",
              "\n",
              "    .dataframe tbody tr th {\n",
              "        vertical-align: top;\n",
              "    }\n",
              "\n",
              "    .dataframe thead th {\n",
              "        text-align: right;\n",
              "    }\n",
              "</style>\n",
              "<table border=\"1\" class=\"dataframe\">\n",
              "  <thead>\n",
              "    <tr style=\"text-align: right;\">\n",
              "      <th></th>\n",
              "      <th>ID</th>\n",
              "      <th>checking_status</th>\n",
              "      <th>credit_history</th>\n",
              "      <th>duration</th>\n",
              "      <th>credit_amount</th>\n",
              "      <th>installment_commitment</th>\n",
              "      <th>residence_since</th>\n",
              "      <th>age</th>\n",
              "      <th>existing_credits</th>\n",
              "      <th>num_dependents</th>\n",
              "      <th>class</th>\n",
              "    </tr>\n",
              "  </thead>\n",
              "  <tbody>\n",
              "    <tr>\n",
              "      <th>0</th>\n",
              "      <td>1</td>\n",
              "      <td>&lt;0</td>\n",
              "      <td>critical/other existing credit</td>\n",
              "      <td>6</td>\n",
              "      <td>1169</td>\n",
              "      <td>4</td>\n",
              "      <td>4</td>\n",
              "      <td>67</td>\n",
              "      <td>2</td>\n",
              "      <td>1</td>\n",
              "      <td>good</td>\n",
              "    </tr>\n",
              "    <tr>\n",
              "      <th>1</th>\n",
              "      <td>2</td>\n",
              "      <td>0&lt;=X&lt;200</td>\n",
              "      <td>existing paid</td>\n",
              "      <td>48</td>\n",
              "      <td>5951</td>\n",
              "      <td>2</td>\n",
              "      <td>2</td>\n",
              "      <td>22</td>\n",
              "      <td>1</td>\n",
              "      <td>1</td>\n",
              "      <td>bad</td>\n",
              "    </tr>\n",
              "    <tr>\n",
              "      <th>2</th>\n",
              "      <td>3</td>\n",
              "      <td>no checking</td>\n",
              "      <td>critical/other existing credit</td>\n",
              "      <td>12</td>\n",
              "      <td>2096</td>\n",
              "      <td>2</td>\n",
              "      <td>3</td>\n",
              "      <td>49</td>\n",
              "      <td>1</td>\n",
              "      <td>2</td>\n",
              "      <td>good</td>\n",
              "    </tr>\n",
              "    <tr>\n",
              "      <th>3</th>\n",
              "      <td>4</td>\n",
              "      <td>&lt;0</td>\n",
              "      <td>existing paid</td>\n",
              "      <td>42</td>\n",
              "      <td>7882</td>\n",
              "      <td>2</td>\n",
              "      <td>4</td>\n",
              "      <td>45</td>\n",
              "      <td>1</td>\n",
              "      <td>2</td>\n",
              "      <td>good</td>\n",
              "    </tr>\n",
              "    <tr>\n",
              "      <th>4</th>\n",
              "      <td>5</td>\n",
              "      <td>&lt;0</td>\n",
              "      <td>delayed previously</td>\n",
              "      <td>24</td>\n",
              "      <td>4870</td>\n",
              "      <td>3</td>\n",
              "      <td>4</td>\n",
              "      <td>53</td>\n",
              "      <td>2</td>\n",
              "      <td>2</td>\n",
              "      <td>bad</td>\n",
              "    </tr>\n",
              "    <tr>\n",
              "      <th>...</th>\n",
              "      <td>...</td>\n",
              "      <td>...</td>\n",
              "      <td>...</td>\n",
              "      <td>...</td>\n",
              "      <td>...</td>\n",
              "      <td>...</td>\n",
              "      <td>...</td>\n",
              "      <td>...</td>\n",
              "      <td>...</td>\n",
              "      <td>...</td>\n",
              "      <td>...</td>\n",
              "    </tr>\n",
              "    <tr>\n",
              "      <th>995</th>\n",
              "      <td>996</td>\n",
              "      <td>no checking</td>\n",
              "      <td>existing paid</td>\n",
              "      <td>12</td>\n",
              "      <td>1736</td>\n",
              "      <td>3</td>\n",
              "      <td>4</td>\n",
              "      <td>31</td>\n",
              "      <td>1</td>\n",
              "      <td>1</td>\n",
              "      <td>good</td>\n",
              "    </tr>\n",
              "    <tr>\n",
              "      <th>996</th>\n",
              "      <td>997</td>\n",
              "      <td>&lt;0</td>\n",
              "      <td>existing paid</td>\n",
              "      <td>30</td>\n",
              "      <td>3857</td>\n",
              "      <td>4</td>\n",
              "      <td>4</td>\n",
              "      <td>40</td>\n",
              "      <td>1</td>\n",
              "      <td>1</td>\n",
              "      <td>good</td>\n",
              "    </tr>\n",
              "    <tr>\n",
              "      <th>997</th>\n",
              "      <td>998</td>\n",
              "      <td>no checking</td>\n",
              "      <td>existing paid</td>\n",
              "      <td>12</td>\n",
              "      <td>804</td>\n",
              "      <td>4</td>\n",
              "      <td>4</td>\n",
              "      <td>38</td>\n",
              "      <td>1</td>\n",
              "      <td>1</td>\n",
              "      <td>good</td>\n",
              "    </tr>\n",
              "    <tr>\n",
              "      <th>998</th>\n",
              "      <td>999</td>\n",
              "      <td>&lt;0</td>\n",
              "      <td>existing paid</td>\n",
              "      <td>45</td>\n",
              "      <td>1845</td>\n",
              "      <td>4</td>\n",
              "      <td>4</td>\n",
              "      <td>23</td>\n",
              "      <td>1</td>\n",
              "      <td>1</td>\n",
              "      <td>bad</td>\n",
              "    </tr>\n",
              "    <tr>\n",
              "      <th>999</th>\n",
              "      <td>1000</td>\n",
              "      <td>0&lt;=X&lt;200</td>\n",
              "      <td>critical/other existing credit</td>\n",
              "      <td>45</td>\n",
              "      <td>4576</td>\n",
              "      <td>3</td>\n",
              "      <td>4</td>\n",
              "      <td>27</td>\n",
              "      <td>1</td>\n",
              "      <td>1</td>\n",
              "      <td>good</td>\n",
              "    </tr>\n",
              "  </tbody>\n",
              "</table>\n",
              "<p>1000 rows × 11 columns</p>\n",
              "</div>"
            ],
            "text/plain": [
              "       ID checking_status  ... num_dependents  class\n",
              "0       1              <0  ...              1   good\n",
              "1       2        0<=X<200  ...              1    bad\n",
              "2       3     no checking  ...              2   good\n",
              "3       4              <0  ...              2   good\n",
              "4       5              <0  ...              2    bad\n",
              "..    ...             ...  ...            ...    ...\n",
              "995   996     no checking  ...              1   good\n",
              "996   997              <0  ...              1   good\n",
              "997   998     no checking  ...              1   good\n",
              "998   999              <0  ...              1    bad\n",
              "999  1000        0<=X<200  ...              1   good\n",
              "\n",
              "[1000 rows x 11 columns]"
            ]
          },
          "metadata": {
            "tags": []
          },
          "execution_count": 6
        }
      ]
    },
    {
      "cell_type": "markdown",
      "metadata": {
        "id": "NS-y9etOWKRy"
      },
      "source": [
        "#Análise Exploratória e Pré-Processamento dos Dados"
      ]
    },
    {
      "cell_type": "code",
      "metadata": {
        "colab": {
          "base_uri": "https://localhost:8080/"
        },
        "id": "xoQe74NGRGvk",
        "outputId": "28eac0a4-62f7-4ad5-ab4a-89c96d5ad532"
      },
      "source": [
        "#separação dos variáveis, ignoro primeira pois não tem valor semântico\n",
        "X = dataset.iloc[:,1:10].values\n",
        "y = dataset.iloc[:, 10].values\n",
        "#temos um arry e não mais um data frame\n",
        "X"
      ],
      "execution_count": 7,
      "outputs": [
        {
          "output_type": "execute_result",
          "data": {
            "text/plain": [
              "array([['<0', 'critical/other existing credit', 6, ..., 67, 2, 1],\n",
              "       ['0<=X<200', 'existing paid', 48, ..., 22, 1, 1],\n",
              "       ['no checking', 'critical/other existing credit', 12, ..., 49, 1,\n",
              "        2],\n",
              "       ...,\n",
              "       ['no checking', 'existing paid', 12, ..., 38, 1, 1],\n",
              "       ['<0', 'existing paid', 45, ..., 23, 1, 1],\n",
              "       ['0<=X<200', 'critical/other existing credit', 45, ..., 27, 1, 1]],\n",
              "      dtype=object)"
            ]
          },
          "metadata": {
            "tags": []
          },
          "execution_count": 7
        }
      ]
    },
    {
      "cell_type": "markdown",
      "metadata": {
        "id": "aLXLjBISWU6p"
      },
      "source": [
        "#Label Encoding"
      ]
    },
    {
      "cell_type": "code",
      "metadata": {
        "colab": {
          "base_uri": "https://localhost:8080/"
        },
        "id": "mPPNkGEuRGvl",
        "outputId": "7a55a047-b416-459d-8fe7-060be7f19bcd"
      },
      "source": [
        "#label encoder coluna checking_status\n",
        "#atribui valores de zero a 3\n",
        "labelencoder = LabelEncoder()\n",
        "X[:,0] = labelencoder.fit_transform(X[:,0])\n",
        "X"
      ],
      "execution_count": 8,
      "outputs": [
        {
          "output_type": "execute_result",
          "data": {
            "text/plain": [
              "array([[1, 'critical/other existing credit', 6, ..., 67, 2, 1],\n",
              "       [0, 'existing paid', 48, ..., 22, 1, 1],\n",
              "       [3, 'critical/other existing credit', 12, ..., 49, 1, 2],\n",
              "       ...,\n",
              "       [3, 'existing paid', 12, ..., 38, 1, 1],\n",
              "       [1, 'existing paid', 45, ..., 23, 1, 1],\n",
              "       [0, 'critical/other existing credit', 45, ..., 27, 1, 1]],\n",
              "      dtype=object)"
            ]
          },
          "metadata": {
            "tags": []
          },
          "execution_count": 8
        }
      ]
    },
    {
      "cell_type": "markdown",
      "metadata": {
        "id": "lL9ulmSeWTQv"
      },
      "source": [
        "#One Hot Encoding"
      ]
    },
    {
      "cell_type": "code",
      "metadata": {
        "colab": {
          "base_uri": "https://localhost:8080/"
        },
        "id": "gN5J4x8bRGvn",
        "outputId": "02555ee5-bc6a-4c24-dfce-0a497b1db087"
      },
      "source": [
        "#one hot encoder coluna credit_history\n",
        "#deve adicionar 5 colunas\n",
        "onehotencoder = make_column_transformer((OneHotEncoder(categories='auto', sparse=False), [1]), remainder=\"passthrough\")\n",
        "X = onehotencoder.fit_transform(X)\n",
        "X"
      ],
      "execution_count": 9,
      "outputs": [
        {
          "output_type": "execute_result",
          "data": {
            "text/plain": [
              "array([[0.0, 1.0, 0.0, ..., 67, 2, 1],\n",
              "       [0.0, 0.0, 0.0, ..., 22, 1, 1],\n",
              "       [0.0, 1.0, 0.0, ..., 49, 1, 2],\n",
              "       ...,\n",
              "       [0.0, 0.0, 0.0, ..., 38, 1, 1],\n",
              "       [0.0, 0.0, 0.0, ..., 23, 1, 1],\n",
              "       [0.0, 1.0, 0.0, ..., 27, 1, 1]], dtype=object)"
            ]
          },
          "metadata": {
            "tags": []
          },
          "execution_count": 9
        }
      ]
    },
    {
      "cell_type": "code",
      "metadata": {
        "colab": {
          "base_uri": "https://localhost:8080/"
        },
        "id": "j-3etiyiRGvq",
        "outputId": "91e923fb-d0a4-46af-a7ae-0b51b8df622c"
      },
      "source": [
        "#Excluimos a variável para evitar a dummy variable trap\n",
        "X = X[:,1:]\n",
        "X"
      ],
      "execution_count": 10,
      "outputs": [
        {
          "output_type": "execute_result",
          "data": {
            "text/plain": [
              "array([[1.0, 0.0, 0.0, ..., 67, 2, 1],\n",
              "       [0.0, 0.0, 1.0, ..., 22, 1, 1],\n",
              "       [1.0, 0.0, 0.0, ..., 49, 1, 2],\n",
              "       ...,\n",
              "       [0.0, 0.0, 1.0, ..., 38, 1, 1],\n",
              "       [0.0, 0.0, 1.0, ..., 23, 1, 1],\n",
              "       [1.0, 0.0, 0.0, ..., 27, 1, 1]], dtype=object)"
            ]
          },
          "metadata": {
            "tags": []
          },
          "execution_count": 10
        }
      ]
    },
    {
      "cell_type": "code",
      "metadata": {
        "colab": {
          "base_uri": "https://localhost:8080/"
        },
        "id": "zW_-90YMRGvr",
        "outputId": "d9cd6459-2976-4bfc-cdd0-5417a54257c1"
      },
      "source": [
        "#Laber encoder com a classe\n",
        "labelencoder_Y = LabelEncoder()\n",
        "y = labelencoder_Y.fit_transform(y)\n",
        "y"
      ],
      "execution_count": 11,
      "outputs": [
        {
          "output_type": "execute_result",
          "data": {
            "text/plain": [
              "array([1, 0, 1, 1, 0, 1, 1, 1, 1, 0, 0, 0, 1, 0, 1, 0, 1, 1, 0, 1, 1, 1,\n",
              "       1, 1, 1, 1, 1, 1, 1, 0, 1, 1, 1, 1, 1, 0, 1, 0, 1, 1, 1, 1, 1, 1,\n",
              "       0, 1, 1, 1, 1, 1, 1, 1, 1, 1, 0, 1, 0, 1, 1, 0, 1, 1, 0, 0, 1, 1,\n",
              "       1, 1, 0, 1, 1, 1, 1, 1, 0, 1, 0, 1, 1, 1, 0, 1, 1, 1, 1, 1, 1, 0,\n",
              "       1, 0, 1, 1, 0, 1, 1, 0, 1, 1, 1, 1, 1, 1, 1, 1, 1, 0, 0, 1, 1, 1,\n",
              "       1, 1, 1, 0, 1, 1, 0, 1, 0, 1, 0, 1, 1, 1, 0, 1, 1, 0, 1, 0, 1, 0,\n",
              "       1, 1, 1, 1, 1, 0, 1, 1, 1, 1, 1, 0, 1, 1, 1, 1, 1, 1, 1, 1, 1, 1,\n",
              "       1, 0, 1, 1, 1, 1, 1, 1, 1, 1, 1, 1, 0, 1, 1, 0, 0, 1, 0, 1, 0, 0,\n",
              "       1, 1, 1, 1, 0, 0, 0, 1, 0, 1, 0, 1, 0, 1, 0, 0, 0, 1, 0, 0, 1, 0,\n",
              "       1, 0, 1, 1, 1, 0, 1, 1, 1, 1, 1, 1, 1, 1, 0, 0, 1, 1, 1, 1, 1, 1,\n",
              "       1, 1, 1, 1, 1, 1, 0, 0, 0, 1, 0, 1, 1, 1, 1, 0, 0, 0, 1, 1, 0, 1,\n",
              "       0, 1, 1, 1, 1, 1, 1, 0, 1, 1, 0, 1, 1, 1, 1, 0, 1, 1, 1, 1, 1, 1,\n",
              "       1, 0, 1, 1, 0, 1, 1, 1, 1, 0, 0, 1, 1, 1, 0, 1, 1, 1, 1, 1, 1, 1,\n",
              "       1, 1, 1, 0, 1, 0, 1, 1, 1, 0, 1, 1, 1, 1, 1, 0, 0, 1, 0, 1, 1, 0,\n",
              "       0, 1, 1, 1, 1, 0, 1, 0, 1, 1, 1, 1, 0, 0, 1, 1, 1, 1, 1, 1, 1, 1,\n",
              "       1, 0, 0, 0, 0, 0, 1, 0, 1, 1, 1, 1, 1, 1, 1, 1, 1, 1, 1, 0, 1, 0,\n",
              "       1, 0, 1, 0, 1, 0, 1, 0, 1, 1, 1, 1, 0, 1, 1, 1, 0, 1, 1, 1, 1, 1,\n",
              "       0, 0, 1, 1, 0, 1, 1, 0, 1, 1, 1, 1, 1, 1, 1, 1, 1, 1, 1, 1, 1, 1,\n",
              "       1, 1, 0, 1, 1, 1, 0, 1, 1, 0, 1, 1, 1, 0, 1, 1, 0, 1, 0, 1, 0, 1,\n",
              "       1, 0, 1, 1, 1, 1, 0, 1, 1, 1, 1, 0, 1, 0, 1, 1, 1, 0, 1, 1, 1, 0,\n",
              "       1, 1, 1, 0, 0, 1, 0, 1, 1, 0, 1, 1, 1, 1, 0, 1, 1, 0, 1, 1, 1, 1,\n",
              "       1, 1, 1, 1, 0, 1, 1, 1, 0, 0, 0, 1, 0, 0, 1, 1, 1, 1, 1, 1, 1, 1,\n",
              "       1, 0, 1, 1, 1, 1, 1, 0, 1, 1, 1, 0, 0, 1, 1, 1, 0, 1, 1, 0, 0, 0,\n",
              "       1, 0, 1, 1, 0, 1, 1, 1, 1, 1, 1, 0, 1, 1, 1, 0, 0, 1, 1, 1, 1, 1,\n",
              "       0, 1, 1, 0, 1, 1, 1, 0, 1, 1, 0, 1, 0, 1, 0, 0, 1, 0, 1, 1, 0, 1,\n",
              "       1, 1, 0, 1, 1, 0, 0, 0, 0, 0, 1, 0, 1, 0, 1, 1, 0, 1, 1, 0, 0, 1,\n",
              "       1, 1, 1, 1, 1, 1, 0, 1, 0, 1, 1, 0, 1, 0, 1, 1, 0, 0, 1, 1, 1, 0,\n",
              "       0, 0, 0, 0, 0, 1, 1, 0, 0, 0, 1, 1, 1, 0, 1, 1, 0, 0, 1, 1, 0, 1,\n",
              "       1, 1, 0, 1, 1, 0, 0, 1, 0, 1, 1, 0, 1, 1, 1, 0, 1, 0, 0, 1, 1, 1,\n",
              "       1, 0, 0, 1, 0, 1, 1, 0, 1, 0, 0, 0, 1, 0, 0, 0, 1, 1, 0, 1, 1, 1,\n",
              "       1, 0, 1, 1, 1, 1, 1, 1, 0, 1, 1, 1, 1, 1, 0, 1, 1, 0, 1, 1, 1, 1,\n",
              "       1, 1, 1, 1, 1, 1, 1, 1, 1, 1, 1, 1, 1, 1, 1, 1, 1, 1, 0, 0, 1, 1,\n",
              "       1, 1, 0, 0, 1, 1, 1, 0, 1, 1, 0, 1, 1, 1, 1, 1, 0, 0, 0, 1, 0, 1,\n",
              "       1, 0, 0, 1, 1, 0, 1, 1, 1, 1, 0, 1, 1, 0, 1, 1, 1, 1, 1, 1, 1, 0,\n",
              "       1, 1, 1, 0, 1, 1, 0, 0, 1, 0, 1, 0, 1, 0, 1, 0, 1, 1, 0, 1, 1, 1,\n",
              "       1, 0, 1, 1, 1, 0, 1, 1, 1, 1, 0, 1, 1, 0, 1, 1, 1, 1, 0, 0, 0, 1,\n",
              "       1, 1, 1, 1, 0, 1, 1, 1, 1, 1, 1, 1, 1, 0, 1, 1, 1, 0, 1, 1, 0, 0,\n",
              "       0, 1, 1, 1, 1, 0, 1, 1, 0, 1, 1, 1, 0, 0, 0, 1, 1, 0, 0, 1, 0, 0,\n",
              "       1, 1, 1, 1, 0, 1, 0, 1, 1, 1, 0, 1, 1, 0, 0, 1, 1, 0, 1, 1, 1, 1,\n",
              "       0, 1, 1, 0, 0, 1, 0, 1, 1, 1, 1, 1, 1, 1, 1, 1, 1, 1, 1, 1, 0, 1,\n",
              "       1, 1, 1, 1, 0, 0, 1, 0, 1, 1, 1, 1, 1, 1, 1, 1, 1, 1, 1, 0, 0, 1,\n",
              "       1, 1, 1, 1, 1, 1, 1, 1, 1, 0, 1, 1, 0, 0, 1, 0, 0, 0, 1, 1, 0, 1,\n",
              "       0, 0, 1, 0, 1, 1, 1, 0, 1, 1, 1, 0, 0, 1, 0, 1, 1, 1, 1, 1, 1, 1,\n",
              "       0, 1, 0, 0, 1, 0, 0, 0, 1, 1, 1, 1, 0, 1, 1, 1, 1, 0, 1, 1, 0, 1,\n",
              "       1, 1, 1, 1, 0, 0, 1, 1, 1, 1, 0, 0, 0, 0, 1, 0, 1, 1, 1, 1, 1, 1,\n",
              "       1, 1, 1, 1, 1, 1, 1, 1, 0, 1])"
            ]
          },
          "metadata": {
            "tags": []
          },
          "execution_count": 11
        }
      ]
    },
    {
      "cell_type": "code",
      "metadata": {
        "colab": {
          "base_uri": "https://localhost:8080/"
        },
        "id": "8HCMZPOZRGvt",
        "outputId": "f370ead8-f7e0-4560-d728-07915387303d"
      },
      "source": [
        "#separação em treino e teste\n",
        "X_train, X_test, y_train, y_test = train_test_split(X, y, test_size = 0.2, random_state = 0)\n",
        "print(len(X_train),len(X_test),len(y_train),len(y_test))"
      ],
      "execution_count": 12,
      "outputs": [
        {
          "output_type": "stream",
          "text": [
            "800 200 800 200\n"
          ],
          "name": "stdout"
        }
      ]
    },
    {
      "cell_type": "markdown",
      "metadata": {
        "id": "EwHxcEqqWaaG"
      },
      "source": [
        "#<font color=\"orange\">Padronização - z-score</font>"
      ]
    },
    {
      "cell_type": "code",
      "metadata": {
        "colab": {
          "base_uri": "https://localhost:8080/"
        },
        "id": "rW4tx0iXRGvw",
        "outputId": "c2fbf6ff-7d5f-4803-cdc2-faff2187b497"
      },
      "source": [
        "#Feature Scalling, Padronização z-score\n",
        "sc = StandardScaler()\n",
        "X_train = sc.fit_transform(X_train)\n",
        "X_test = sc.transform(X_test)\n",
        "X_test"
      ],
      "execution_count": 13,
      "outputs": [
        {
          "output_type": "execute_result",
          "data": {
            "text/plain": [
              "array([[-0.65270587, -0.30966177,  0.95357636, ..., -0.50870719,\n",
              "        -0.71596668, -0.42214126],\n",
              "       [-0.65270587, -0.30966177,  0.95357636, ..., -0.85315557,\n",
              "        -0.71596668,  2.36887531],\n",
              "       [-0.65270587, -0.30966177,  0.95357636, ...,  0.61075002,\n",
              "        -0.71596668, -0.42214126],\n",
              "       ...,\n",
              "       [ 1.53208366, -0.30966177, -1.04868371, ...,  0.26630165,\n",
              "         1.04100677, -0.42214126],\n",
              "       [-0.65270587,  3.22932987, -1.04868371, ...,  0.52463793,\n",
              "         4.55495365, -0.42214126],\n",
              "       [-0.65270587, -0.30966177,  0.95357636, ...,  0.52463793,\n",
              "        -0.71596668,  2.36887531]])"
            ]
          },
          "metadata": {
            "tags": []
          },
          "execution_count": 13
        }
      ]
    },
    {
      "cell_type": "markdown",
      "metadata": {
        "id": "MlhdOgsaWheS"
      },
      "source": [
        "#Topologia da Rede Neural"
      ]
    },
    {
      "cell_type": "code",
      "metadata": {
        "colab": {
          "base_uri": "https://localhost:8080/"
        },
        "id": "G4Lc1id7RGvz",
        "outputId": "2f9d09a0-b1e8-474a-cccb-4d2a493eba20"
      },
      "source": [
        "classifier = Sequential()\n",
        "classifier.add(Dense(units = 6, kernel_initializer = 'uniform', activation = 'relu', input_dim = 12))\n",
        "classifier.add(Dense(units = 6, kernel_initializer = 'uniform', activation = 'relu'))\n",
        "classifier.add(Dense(units = 1, kernel_initializer = 'uniform', activation = 'sigmoid'))\n",
        "classifier.compile(optimizer = 'adam', loss = 'binary_crossentropy', metrics = ['accuracy'])\n",
        "classifier.fit(X_train, y_train, batch_size = 10, epochs = 100)"
      ],
      "execution_count": 14,
      "outputs": [
        {
          "output_type": "stream",
          "text": [
            "Epoch 1/100\n",
            "80/80 [==============================] - 1s 1ms/step - loss: 0.6892 - accuracy: 0.6556\n",
            "Epoch 2/100\n",
            "80/80 [==============================] - 0s 1ms/step - loss: 0.6620 - accuracy: 0.6884\n",
            "Epoch 3/100\n",
            "80/80 [==============================] - 0s 1ms/step - loss: 0.5972 - accuracy: 0.6962\n",
            "Epoch 4/100\n",
            "80/80 [==============================] - 0s 1ms/step - loss: 0.5346 - accuracy: 0.7087\n",
            "Epoch 5/100\n",
            "80/80 [==============================] - 0s 1ms/step - loss: 0.5478 - accuracy: 0.7101\n",
            "Epoch 6/100\n",
            "80/80 [==============================] - 0s 1ms/step - loss: 0.5387 - accuracy: 0.7252\n",
            "Epoch 7/100\n",
            "80/80 [==============================] - 0s 1ms/step - loss: 0.5221 - accuracy: 0.7459\n",
            "Epoch 8/100\n",
            "80/80 [==============================] - 0s 1ms/step - loss: 0.5215 - accuracy: 0.7412\n",
            "Epoch 9/100\n",
            "80/80 [==============================] - 0s 1ms/step - loss: 0.5397 - accuracy: 0.7160\n",
            "Epoch 10/100\n",
            "80/80 [==============================] - 0s 1ms/step - loss: 0.5176 - accuracy: 0.7355\n",
            "Epoch 11/100\n",
            "80/80 [==============================] - 0s 1ms/step - loss: 0.4850 - accuracy: 0.7611\n",
            "Epoch 12/100\n",
            "80/80 [==============================] - 0s 1ms/step - loss: 0.5112 - accuracy: 0.7398\n",
            "Epoch 13/100\n",
            "80/80 [==============================] - 0s 1ms/step - loss: 0.5252 - accuracy: 0.7514\n",
            "Epoch 14/100\n",
            "80/80 [==============================] - 0s 1ms/step - loss: 0.5035 - accuracy: 0.7513\n",
            "Epoch 15/100\n",
            "80/80 [==============================] - 0s 1ms/step - loss: 0.5277 - accuracy: 0.7442\n",
            "Epoch 16/100\n",
            "80/80 [==============================] - 0s 1ms/step - loss: 0.5154 - accuracy: 0.7443\n",
            "Epoch 17/100\n",
            "80/80 [==============================] - 0s 1ms/step - loss: 0.4791 - accuracy: 0.7775\n",
            "Epoch 18/100\n",
            "80/80 [==============================] - 0s 1ms/step - loss: 0.5154 - accuracy: 0.7500\n",
            "Epoch 19/100\n",
            "80/80 [==============================] - 0s 1ms/step - loss: 0.4884 - accuracy: 0.7647\n",
            "Epoch 20/100\n",
            "80/80 [==============================] - 0s 1ms/step - loss: 0.4698 - accuracy: 0.7755\n",
            "Epoch 21/100\n",
            "80/80 [==============================] - 0s 1ms/step - loss: 0.5488 - accuracy: 0.7047\n",
            "Epoch 22/100\n",
            "80/80 [==============================] - 0s 1ms/step - loss: 0.5030 - accuracy: 0.7655\n",
            "Epoch 23/100\n",
            "80/80 [==============================] - 0s 1ms/step - loss: 0.5088 - accuracy: 0.7550\n",
            "Epoch 24/100\n",
            "80/80 [==============================] - 0s 1ms/step - loss: 0.5384 - accuracy: 0.7335\n",
            "Epoch 25/100\n",
            "80/80 [==============================] - 0s 1ms/step - loss: 0.4952 - accuracy: 0.7709\n",
            "Epoch 26/100\n",
            "80/80 [==============================] - 0s 1ms/step - loss: 0.4963 - accuracy: 0.7611\n",
            "Epoch 27/100\n",
            "80/80 [==============================] - 0s 1ms/step - loss: 0.5129 - accuracy: 0.7312\n",
            "Epoch 28/100\n",
            "80/80 [==============================] - 0s 1ms/step - loss: 0.5149 - accuracy: 0.7493\n",
            "Epoch 29/100\n",
            "80/80 [==============================] - 0s 1ms/step - loss: 0.4900 - accuracy: 0.7715\n",
            "Epoch 30/100\n",
            "80/80 [==============================] - 0s 1ms/step - loss: 0.4768 - accuracy: 0.7659\n",
            "Epoch 31/100\n",
            "80/80 [==============================] - 0s 1ms/step - loss: 0.5021 - accuracy: 0.7409\n",
            "Epoch 32/100\n",
            "80/80 [==============================] - 0s 1ms/step - loss: 0.5226 - accuracy: 0.7347\n",
            "Epoch 33/100\n",
            "80/80 [==============================] - 0s 1ms/step - loss: 0.5049 - accuracy: 0.7458\n",
            "Epoch 34/100\n",
            "80/80 [==============================] - 0s 1ms/step - loss: 0.4614 - accuracy: 0.7760\n",
            "Epoch 35/100\n",
            "80/80 [==============================] - 0s 1ms/step - loss: 0.5066 - accuracy: 0.7596\n",
            "Epoch 36/100\n",
            "80/80 [==============================] - 0s 1ms/step - loss: 0.5170 - accuracy: 0.7507\n",
            "Epoch 37/100\n",
            "80/80 [==============================] - 0s 1ms/step - loss: 0.5227 - accuracy: 0.7351\n",
            "Epoch 38/100\n",
            "80/80 [==============================] - 0s 1ms/step - loss: 0.5218 - accuracy: 0.7359\n",
            "Epoch 39/100\n",
            "80/80 [==============================] - 0s 1ms/step - loss: 0.4837 - accuracy: 0.7455\n",
            "Epoch 40/100\n",
            "80/80 [==============================] - 0s 1ms/step - loss: 0.5048 - accuracy: 0.7467\n",
            "Epoch 41/100\n",
            "80/80 [==============================] - 0s 1ms/step - loss: 0.4851 - accuracy: 0.7652\n",
            "Epoch 42/100\n",
            "80/80 [==============================] - 0s 1ms/step - loss: 0.5121 - accuracy: 0.7305\n",
            "Epoch 43/100\n",
            "80/80 [==============================] - 0s 1ms/step - loss: 0.5127 - accuracy: 0.7435\n",
            "Epoch 44/100\n",
            "80/80 [==============================] - 0s 1ms/step - loss: 0.4806 - accuracy: 0.7629\n",
            "Epoch 45/100\n",
            "80/80 [==============================] - 0s 1ms/step - loss: 0.5161 - accuracy: 0.7498\n",
            "Epoch 46/100\n",
            "80/80 [==============================] - 0s 1ms/step - loss: 0.4916 - accuracy: 0.7446\n",
            "Epoch 47/100\n",
            "80/80 [==============================] - 0s 1ms/step - loss: 0.4835 - accuracy: 0.7661\n",
            "Epoch 48/100\n",
            "80/80 [==============================] - 0s 1ms/step - loss: 0.4738 - accuracy: 0.7926\n",
            "Epoch 49/100\n",
            "80/80 [==============================] - 0s 1ms/step - loss: 0.4713 - accuracy: 0.7786\n",
            "Epoch 50/100\n",
            "80/80 [==============================] - 0s 1ms/step - loss: 0.4812 - accuracy: 0.7787\n",
            "Epoch 51/100\n",
            "80/80 [==============================] - 0s 1ms/step - loss: 0.4703 - accuracy: 0.7722\n",
            "Epoch 52/100\n",
            "80/80 [==============================] - 0s 1ms/step - loss: 0.4844 - accuracy: 0.7665\n",
            "Epoch 53/100\n",
            "80/80 [==============================] - 0s 1ms/step - loss: 0.4747 - accuracy: 0.7772\n",
            "Epoch 54/100\n",
            "80/80 [==============================] - 0s 1ms/step - loss: 0.5017 - accuracy: 0.7543\n",
            "Epoch 55/100\n",
            "80/80 [==============================] - 0s 1ms/step - loss: 0.5077 - accuracy: 0.7559\n",
            "Epoch 56/100\n",
            "80/80 [==============================] - 0s 1ms/step - loss: 0.4856 - accuracy: 0.7685\n",
            "Epoch 57/100\n",
            "80/80 [==============================] - 0s 1ms/step - loss: 0.4674 - accuracy: 0.7852\n",
            "Epoch 58/100\n",
            "80/80 [==============================] - 0s 1ms/step - loss: 0.4830 - accuracy: 0.7615\n",
            "Epoch 59/100\n",
            "80/80 [==============================] - 0s 1ms/step - loss: 0.5002 - accuracy: 0.7555\n",
            "Epoch 60/100\n",
            "80/80 [==============================] - 0s 1ms/step - loss: 0.4620 - accuracy: 0.7730\n",
            "Epoch 61/100\n",
            "80/80 [==============================] - 0s 1ms/step - loss: 0.4858 - accuracy: 0.7634\n",
            "Epoch 62/100\n",
            "80/80 [==============================] - 0s 1ms/step - loss: 0.5293 - accuracy: 0.7388\n",
            "Epoch 63/100\n",
            "80/80 [==============================] - 0s 1ms/step - loss: 0.4806 - accuracy: 0.7670\n",
            "Epoch 64/100\n",
            "80/80 [==============================] - 0s 1ms/step - loss: 0.4645 - accuracy: 0.7716\n",
            "Epoch 65/100\n",
            "80/80 [==============================] - 0s 1ms/step - loss: 0.4581 - accuracy: 0.8001\n",
            "Epoch 66/100\n",
            "80/80 [==============================] - 0s 1ms/step - loss: 0.4951 - accuracy: 0.7816\n",
            "Epoch 67/100\n",
            "80/80 [==============================] - 0s 1ms/step - loss: 0.4848 - accuracy: 0.7814\n",
            "Epoch 68/100\n",
            "80/80 [==============================] - 0s 1ms/step - loss: 0.4804 - accuracy: 0.7734\n",
            "Epoch 69/100\n",
            "80/80 [==============================] - 0s 1ms/step - loss: 0.4882 - accuracy: 0.7671\n",
            "Epoch 70/100\n",
            "80/80 [==============================] - 0s 1ms/step - loss: 0.4977 - accuracy: 0.7514\n",
            "Epoch 71/100\n",
            "80/80 [==============================] - 0s 1ms/step - loss: 0.4980 - accuracy: 0.7500\n",
            "Epoch 72/100\n",
            "80/80 [==============================] - 0s 1ms/step - loss: 0.4555 - accuracy: 0.7744\n",
            "Epoch 73/100\n",
            "80/80 [==============================] - 0s 1ms/step - loss: 0.4791 - accuracy: 0.7762\n",
            "Epoch 74/100\n",
            "80/80 [==============================] - 0s 1ms/step - loss: 0.4775 - accuracy: 0.7808\n",
            "Epoch 75/100\n",
            "80/80 [==============================] - 0s 1ms/step - loss: 0.5151 - accuracy: 0.7540\n",
            "Epoch 76/100\n",
            "80/80 [==============================] - 0s 2ms/step - loss: 0.4690 - accuracy: 0.7729\n",
            "Epoch 77/100\n",
            "80/80 [==============================] - 0s 1ms/step - loss: 0.4734 - accuracy: 0.7722\n",
            "Epoch 78/100\n",
            "80/80 [==============================] - 0s 1ms/step - loss: 0.4778 - accuracy: 0.7862\n",
            "Epoch 79/100\n",
            "80/80 [==============================] - 0s 1ms/step - loss: 0.4762 - accuracy: 0.7797\n",
            "Epoch 80/100\n",
            "80/80 [==============================] - 0s 1ms/step - loss: 0.4826 - accuracy: 0.7834\n",
            "Epoch 81/100\n",
            "80/80 [==============================] - 0s 1ms/step - loss: 0.4637 - accuracy: 0.7984\n",
            "Epoch 82/100\n",
            "80/80 [==============================] - 0s 1ms/step - loss: 0.4868 - accuracy: 0.7650\n",
            "Epoch 83/100\n",
            "80/80 [==============================] - 0s 1ms/step - loss: 0.4924 - accuracy: 0.7701\n",
            "Epoch 84/100\n",
            "80/80 [==============================] - 0s 1ms/step - loss: 0.4607 - accuracy: 0.7845\n",
            "Epoch 85/100\n",
            "80/80 [==============================] - 0s 1ms/step - loss: 0.4778 - accuracy: 0.7687\n",
            "Epoch 86/100\n",
            "80/80 [==============================] - 0s 1ms/step - loss: 0.4839 - accuracy: 0.7875\n",
            "Epoch 87/100\n",
            "80/80 [==============================] - 0s 1ms/step - loss: 0.4941 - accuracy: 0.7575\n",
            "Epoch 88/100\n",
            "80/80 [==============================] - 0s 1ms/step - loss: 0.4609 - accuracy: 0.7946\n",
            "Epoch 89/100\n",
            "80/80 [==============================] - 0s 1ms/step - loss: 0.4721 - accuracy: 0.7808\n",
            "Epoch 90/100\n",
            "80/80 [==============================] - 0s 1ms/step - loss: 0.4538 - accuracy: 0.7921\n",
            "Epoch 91/100\n",
            "80/80 [==============================] - 0s 1ms/step - loss: 0.4915 - accuracy: 0.7708\n",
            "Epoch 92/100\n",
            "80/80 [==============================] - 0s 1ms/step - loss: 0.4590 - accuracy: 0.7993\n",
            "Epoch 93/100\n",
            "80/80 [==============================] - 0s 1ms/step - loss: 0.4590 - accuracy: 0.7866\n",
            "Epoch 94/100\n",
            "80/80 [==============================] - 0s 1ms/step - loss: 0.4666 - accuracy: 0.7807\n",
            "Epoch 95/100\n",
            "80/80 [==============================] - 0s 1ms/step - loss: 0.4592 - accuracy: 0.8014\n",
            "Epoch 96/100\n",
            "80/80 [==============================] - 0s 1ms/step - loss: 0.4737 - accuracy: 0.7698\n",
            "Epoch 97/100\n",
            "80/80 [==============================] - 0s 1ms/step - loss: 0.4760 - accuracy: 0.7553\n",
            "Epoch 98/100\n",
            "80/80 [==============================] - 0s 1ms/step - loss: 0.5125 - accuracy: 0.7405\n",
            "Epoch 99/100\n",
            "80/80 [==============================] - 0s 1ms/step - loss: 0.4601 - accuracy: 0.7768\n",
            "Epoch 100/100\n",
            "80/80 [==============================] - 0s 1ms/step - loss: 0.4954 - accuracy: 0.7528\n"
          ],
          "name": "stdout"
        },
        {
          "output_type": "execute_result",
          "data": {
            "text/plain": [
              "<tensorflow.python.keras.callbacks.History at 0x7efeb8543f10>"
            ]
          },
          "metadata": {
            "tags": []
          },
          "execution_count": 14
        }
      ]
    },
    {
      "cell_type": "markdown",
      "metadata": {
        "id": "NqPxSRoqWmzD"
      },
      "source": [
        "Previsão"
      ]
    },
    {
      "cell_type": "code",
      "metadata": {
        "id": "-7yz5VWIRGv1"
      },
      "source": [
        "y_pred = classifier.predict(X_test)\n",
        "y_pred = (y_pred > 0.5)\n",
        "#y_pred"
      ],
      "execution_count": 17,
      "outputs": []
    },
    {
      "cell_type": "markdown",
      "metadata": {
        "id": "yqUmzvBpWv2n"
      },
      "source": [
        "#Matriz de confusão"
      ]
    },
    {
      "cell_type": "code",
      "metadata": {
        "colab": {
          "base_uri": "https://localhost:8080/"
        },
        "id": "MkMz7wYWRGv3",
        "outputId": "533bd9a7-1cec-4919-d2a4-1b12519e43bf"
      },
      "source": [
        "#matriz de confusão\n",
        "cm = confusion_matrix(y_test, y_pred)\n",
        "cm"
      ],
      "execution_count": 16,
      "outputs": [
        {
          "output_type": "execute_result",
          "data": {
            "text/plain": [
              "array([[ 22,  36],\n",
              "       [ 17, 125]])"
            ]
          },
          "metadata": {
            "tags": []
          },
          "execution_count": 16
        }
      ]
    },
    {
      "cell_type": "code",
      "metadata": {
        "id": "-rFkZElARGv5"
      },
      "source": [
        ""
      ],
      "execution_count": 16,
      "outputs": []
    }
  ]
}